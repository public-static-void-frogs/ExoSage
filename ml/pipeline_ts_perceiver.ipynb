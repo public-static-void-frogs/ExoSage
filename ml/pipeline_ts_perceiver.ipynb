{
 "cells": [
  {
   "cell_type": "code",
   "metadata": {
    "execution": {
     "iopub.execute_input": "2025-10-04T16:37:03.598141Z",
     "iopub.status.busy": "2025-10-04T16:37:03.597874Z",
     "iopub.status.idle": "2025-10-04T16:38:32.572290Z",
     "shell.execute_reply": "2025-10-04T16:38:32.571581Z",
     "shell.execute_reply.started": "2025-10-04T16:37:03.598108Z"
    },
    "trusted": true
   },
   "source": [
    "!pip install numpy==1.26.4 scikit-learn==1.5.3\n",
    "!pip install -U tsai\n",
    "!pip install fastparquet"
   ],
   "outputs": [],
   "execution_count": null
  },
  {
   "cell_type": "code",
   "metadata": {
    "execution": {
     "iopub.execute_input": "2025-10-04T16:38:32.573554Z",
     "iopub.status.busy": "2025-10-04T16:38:32.573323Z",
     "iopub.status.idle": "2025-10-04T16:38:44.412458Z",
     "shell.execute_reply": "2025-10-04T16:38:44.411603Z",
     "shell.execute_reply.started": "2025-10-04T16:38:32.573531Z"
    },
    "trusted": true
   },
   "source": [
    "import os\n",
    "import re\n",
    "import pandas as pd\n",
    "from tsai.all import *\n",
    "from fastai.callback.wandb import WandbCallback\n",
    "from fastai.callback.tracker import EarlyStoppingCallback\n",
    "from fastai.callback.fp16 import MixedPrecision\n",
    "from sklearn.metrics import confusion_matrix\n",
    "import wandb"
   ],
   "outputs": [],
   "execution_count": null
  },
  {
   "cell_type": "code",
   "metadata": {
    "execution": {
     "iopub.execute_input": "2025-10-04T16:38:44.414991Z",
     "iopub.status.busy": "2025-10-04T16:38:44.414661Z",
     "iopub.status.idle": "2025-10-04T16:38:56.795993Z",
     "shell.execute_reply": "2025-10-04T16:38:56.795393Z",
     "shell.execute_reply.started": "2025-10-04T16:38:44.414961Z"
    },
    "trusted": true
   },
   "source": [
    "EPOCHS = 300\n",
    "PATIENCE = 5\n",
    "LR = 1e-3\n",
    "\n",
    "wandb.login(key=API_WANDB)\n",
    "wandb.init(\n",
    "    project=\"ts_classification\",\n",
    "    name=\"TSPerceiver_full_pipeline\",\n",
    "    entity=\"nasa-public_static_void_frogs\",\n",
    "    config={\n",
    "        \"epochs\": EPOCHS,\n",
    "        \"lr\": LR,\n",
    "        \"model\": \"TSPerceiver\"\n",
    "    }\n",
    ")"
   ],
   "outputs": [],
   "execution_count": null
  },
  {
   "cell_type": "code",
   "metadata": {
    "execution": {
     "iopub.execute_input": "2025-10-04T16:38:56.796866Z",
     "iopub.status.busy": "2025-10-04T16:38:56.796638Z",
     "iopub.status.idle": "2025-10-04T16:38:56.801674Z",
     "shell.execute_reply": "2025-10-04T16:38:56.800959Z",
     "shell.execute_reply.started": "2025-10-04T16:38:56.796836Z"
    },
    "trusted": true
   },
   "source": [
    "def sort_num(el):\n",
    "    num = re.search(r\"version_02_(\\w+)_(.+)\\..+\", el)\n",
    "    part = num.group(2)\n",
    "    if part == 'final':\n",
    "        return float('inf')\n",
    "    else:\n",
    "        return int(part)\n",
    "FOLDERS = ['/kaggle/input/nasa-cooked/init_df/', '/kaggle/input/nasa-cooked/init_df_not_in_koi/']\n",
    "START_INDEX = 0\n",
    "END_INDEX = 10"
   ],
   "outputs": [],
   "execution_count": null
  },
  {
   "cell_type": "code",
   "metadata": {
    "execution": {
     "iopub.execute_input": "2025-10-04T16:38:56.802690Z",
     "iopub.status.busy": "2025-10-04T16:38:56.802450Z",
     "iopub.status.idle": "2025-10-04T16:38:56.832783Z",
     "shell.execute_reply": "2025-10-04T16:38:56.832290Z",
     "shell.execute_reply.started": "2025-10-04T16:38:56.802667Z"
    },
    "trusted": true
   },
   "source": [
    "parquets = []\n",
    "csvs = []\n",
    "for f in FOLDERS:\n",
    "    l = os.listdir(f)\n",
    "    print(l)\n",
    "    parquets.append([el for el in l if el.endswith('.parquet')])\n",
    "    csvs.append([el for el in l if el.endswith('.csv')])\n",
    "    \n",
    "    parquets[-1].sort(key=sort_num)\n",
    "    csvs[-1].sort(key=sort_num)"
   ],
   "outputs": [],
   "execution_count": null
  },
  {
   "cell_type": "code",
   "metadata": {
    "execution": {
     "iopub.execute_input": "2025-10-04T16:38:56.838854Z",
     "iopub.status.busy": "2025-10-04T16:38:56.838593Z",
     "iopub.status.idle": "2025-10-04T16:39:17.460623Z",
     "shell.execute_reply": "2025-10-04T16:39:17.460036Z",
     "shell.execute_reply.started": "2025-10-04T16:38:56.838816Z"
    },
    "trusted": true
   },
   "source": [
    "dfs_to_concat = []\n",
    "for f, csv_list, parquet_list in zip(FOLDERS, csvs, parquets):\n",
    "    print(f'using folder {f}')\n",
    "    for pair in zip(csv_list[START_INDEX:END_INDEX], parquet_list[START_INDEX:END_INDEX]):\n",
    "        print(f'concating pair {pair}')\n",
    "        df_values_loaded = pd.read_parquet(f + pair[1], engine=\"fastparquet\")\n",
    "        df_values_loaded.columns = df_values_loaded.columns.astype(int)\n",
    "        df_ids_loaded = pd.read_csv(f + pair[0])\n",
    "        print(f'{df_values_loaded.shape=}, {df_ids_loaded.shape=}')\n",
    "        if df_values_loaded.shape[0] > df_values_loaded.shape[1]: #rows more than columns, saved correctly, needs transpose\n",
    "            print('concating with transpose')\n",
    "            df_part = pd.concat([df_ids_loaded, df_values_loaded.T.reset_index(drop=True)], axis=1)\n",
    "        else: #columns more than rows, saved incorrectly, doesn't need transpose\n",
    "            print('concating without transpose')\n",
    "            df_part = pd.concat([df_ids_loaded, df_values_loaded], axis=1)\n",
    "        print(f'{df_part.shape=}')\n",
    "        df_part.set_index(['KEPID', 'PLANET_NUM'], inplace=True)\n",
    "        dfs_to_concat.append(df_part)"
   ],
   "outputs": [],
   "execution_count": null
  },
  {
   "cell_type": "code",
   "metadata": {
    "execution": {
     "iopub.execute_input": "2025-10-04T16:39:17.461745Z",
     "iopub.status.busy": "2025-10-04T16:39:17.461453Z",
     "iopub.status.idle": "2025-10-04T16:39:18.933850Z",
     "shell.execute_reply": "2025-10-04T16:39:18.933039Z",
     "shell.execute_reply.started": "2025-10-04T16:39:17.461715Z"
    },
    "trusted": true
   },
   "source": [
    "full_df = pd.concat(dfs_to_concat, axis=0)"
   ],
   "outputs": [],
   "execution_count": null
  },
  {
   "cell_type": "code",
   "metadata": {
    "execution": {
     "iopub.execute_input": "2025-10-04T16:39:18.936116Z",
     "iopub.status.busy": "2025-10-04T16:39:18.935890Z",
     "iopub.status.idle": "2025-10-04T16:40:31.563045Z",
     "shell.execute_reply": "2025-10-04T16:40:31.562290Z",
     "shell.execute_reply.started": "2025-10-04T16:39:18.936098Z"
    },
    "trusted": true
   },
   "source": [
    "nan_counts = full_df.isna().sum()\n",
    "nan_counts = nan_counts[nan_counts > 0].sort_values(ascending=False)\n",
    "\n",
    "plt.figure(figsize=(10, 5))\n",
    "plt.bar(nan_counts.index, nan_counts.values)\n",
    "plt.xticks(rotation=45, ha='right')\n",
    "plt.show()"
   ],
   "outputs": [],
   "execution_count": null
  },
  {
   "cell_type": "code",
   "metadata": {
    "execution": {
     "iopub.execute_input": "2025-10-04T16:42:30.149590Z",
     "iopub.status.busy": "2025-10-04T16:42:30.149298Z",
     "iopub.status.idle": "2025-10-04T16:43:35.407948Z",
     "shell.execute_reply": "2025-10-04T16:43:35.407310Z",
     "shell.execute_reply.started": "2025-10-04T16:42:30.149571Z"
    },
    "trusted": true
   },
   "source": [
    "threshold = 0.6  \n",
    "\n",
    "nan_ratio = full_df.isna().mean()\n",
    "cols_to_keep = nan_ratio[nan_ratio < threshold].index\n",
    "full_df = full_df[cols_to_keep]\n",
    "\n",
    "full_df = full_df.apply(pd.to_numeric, errors='coerce')\n",
    "full_df = full_df.reset_index()\n",
    "full_df = full_df.interpolate(method='polynomial', order=3, limit_direction='both')\n",
    "full_df = full_df.fillna(method='bfill').fillna(method='ffill')\n"
   ],
   "outputs": [],
   "execution_count": null
  },
  {
   "cell_type": "code",
   "metadata": {
    "execution": {
     "iopub.execute_input": "2025-10-04T16:44:13.607709Z",
     "iopub.status.busy": "2025-10-04T16:44:13.607135Z",
     "iopub.status.idle": "2025-10-04T16:44:17.712195Z",
     "shell.execute_reply": "2025-10-04T16:44:17.711610Z",
     "shell.execute_reply.started": "2025-10-04T16:44:13.607684Z"
    },
    "trusted": true
   },
   "source": [
    "x = full_df.drop(columns=\"LABEL\")\n",
    "y = full_df[\"LABEL\"]\n",
    "splits = RandomSplitter(valid_pct=0.2)(range_of(y))"
   ],
   "outputs": [],
   "execution_count": null
  },
  {
   "cell_type": "code",
   "metadata": {
    "execution": {
     "iopub.execute_input": "2025-10-04T16:45:14.812642Z",
     "iopub.status.busy": "2025-10-04T16:45:14.811947Z",
     "iopub.status.idle": "2025-10-04T16:45:42.837370Z",
     "shell.execute_reply": "2025-10-04T16:45:42.836620Z",
     "shell.execute_reply.started": "2025-10-04T16:45:14.812623Z"
    },
    "trusted": true
   },
   "source": [
    "dls = get_ts_dls(\n",
    "    x, y, splits=splits,\n",
    "    tfms=[None, TSClassification()],\n",
    "    batch_tfms=[TSStandardize(by_sample=True)],\n",
    "    path='.',\n",
    "    bs=2\n",
    ")"
   ],
   "outputs": [],
   "execution_count": null
  },
  {
   "cell_type": "code",
   "metadata": {
    "execution": {
     "iopub.execute_input": "2025-10-04T16:45:42.838783Z",
     "iopub.status.busy": "2025-10-04T16:45:42.838533Z",
     "iopub.status.idle": "2025-10-04T16:45:42.986341Z",
     "shell.execute_reply": "2025-10-04T16:45:42.985774Z",
     "shell.execute_reply.started": "2025-10-04T16:45:42.838766Z"
    },
    "trusted": true
   },
   "source": [
    "seq_len = x.shape[1]\n",
    "c_in = x.shape[2] if x.ndim==3 else 1\n",
    "c_out = len(set(y))\n",
    "\n",
    "learn = ts_learner(\n",
    "    dls,\n",
    "    TSPerceiver,\n",
    "    metrics=accuracy,\n",
    "    cbs=[\n",
    "        ShowGraph(),\n",
    "        WandbCallback(log_model=True),\n",
    "        EarlyStoppingCallback(monitor='accuracy', patience=5),\n",
    "        MixedPrecision()\n",
    "    ],\n",
    "    arch_config={'seq_len': seq_len}  \n",
    ")\n"
   ],
   "outputs": [],
   "execution_count": null
  },
  {
   "cell_type": "code",
   "metadata": {
    "execution": {
     "iopub.execute_input": "2025-10-04T16:45:42.987551Z",
     "iopub.status.busy": "2025-10-04T16:45:42.987083Z",
     "iopub.status.idle": "2025-10-04T16:57:26.358478Z",
     "shell.execute_reply": "2025-10-04T16:57:26.357299Z",
     "shell.execute_reply.started": "2025-10-04T16:45:42.987524Z"
    },
    "trusted": true
   },
   "source": [
    "learn.fit_one_cycle(EPOCHS, LR)"
   ],
   "outputs": [],
   "execution_count": null
  },
  {
   "cell_type": "code",
   "metadata": {
    "execution": {
     "iopub.status.busy": "2025-10-04T16:40:47.734746Z",
     "iopub.status.idle": "2025-10-04T16:40:47.735304Z",
     "shell.execute_reply": "2025-10-04T16:40:47.735147Z",
     "shell.execute_reply.started": "2025-10-04T16:40:47.735131Z"
    },
    "trusted": true
   },
   "source": [
    "preds, targs = learn.get_preds()\n",
    "acc = accuracy(preds, targs)\n",
    "wandb.log({\"final_accuracy\": acc})\n",
    "\n",
    "cm = confusion_matrix(targs, preds.argmax(1))\n",
    "\n",
    "wandb.log({\n",
    "    \"confusion_matrix\": wandb.plot.confusion_matrix(\n",
    "        probs=None,\n",
    "        y_true=targs,\n",
    "        preds=preds.argmax(1),\n",
    "        class_names=list(set(targs.numpy()))\n",
    "    )\n",
    "})\n",
    "wandb.finish()"
   ],
   "outputs": [],
   "execution_count": null
  },
  {
   "cell_type": "code",
   "metadata": {
    "trusted": true
   },
   "source": [],
   "outputs": [],
   "execution_count": null
  }
 ],
 "metadata": {
  "kaggle": {
   "accelerator": "nvidiaTeslaT4",
   "dataSources": [
    {
     "datasetId": 8353289,
     "sourceId": 13261092,
     "sourceType": "datasetVersion"
    }
   ],
   "dockerImageVersionId": 31089,
   "isGpuEnabled": true,
   "isInternetEnabled": true,
   "language": "python",
   "sourceType": "notebook"
  },
  "kernelspec": {
   "display_name": "Python 3",
   "language": "python",
   "name": "python3"
  },
  "language_info": {
   "codemirror_mode": {
    "name": "ipython",
    "version": 3
   },
   "file_extension": ".py",
   "mimetype": "text/x-python",
   "name": "python",
   "nbconvert_exporter": "python",
   "pygments_lexer": "ipython3",
   "version": "3.11.13"
  }
 },
 "nbformat": 4,
 "nbformat_minor": 4
}
