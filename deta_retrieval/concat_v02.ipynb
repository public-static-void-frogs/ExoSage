{
 "cells": [
  {
   "cell_type": "code",
   "execution_count": 1,
   "id": "841cec29",
   "metadata": {
    "execution": {
     "iopub.execute_input": "2025-10-04T10:47:43.967486Z",
     "iopub.status.busy": "2025-10-04T10:47:43.967044Z",
     "iopub.status.idle": "2025-10-04T10:47:48.660049Z",
     "shell.execute_reply": "2025-10-04T10:47:48.658845Z",
     "shell.execute_reply.started": "2025-10-04T10:47:43.967448Z"
    },
    "trusted": true
   },
   "outputs": [
    {
     "name": "stdout",
     "output_type": "stream",
     "text": [
      "Requirement already satisfied: fastparquet in /usr/local/lib/python3.11/dist-packages (2024.11.0)\n",
      "Requirement already satisfied: pandas>=1.5.0 in /usr/local/lib/python3.11/dist-packages (from fastparquet) (2.2.3)\n",
      "Requirement already satisfied: numpy in /usr/local/lib/python3.11/dist-packages (from fastparquet) (1.26.4)\n",
      "Requirement already satisfied: cramjam>=2.3 in /usr/local/lib/python3.11/dist-packages (from fastparquet) (2.10.0)\n",
      "Requirement already satisfied: fsspec in /usr/local/lib/python3.11/dist-packages (from fastparquet) (2025.5.1)\n",
      "Requirement already satisfied: packaging in /usr/local/lib/python3.11/dist-packages (from fastparquet) (25.0)\n",
      "Requirement already satisfied: python-dateutil>=2.8.2 in /usr/local/lib/python3.11/dist-packages (from pandas>=1.5.0->fastparquet) (2.9.0.post0)\n",
      "Requirement already satisfied: pytz>=2020.1 in /usr/local/lib/python3.11/dist-packages (from pandas>=1.5.0->fastparquet) (2025.2)\n",
      "Requirement already satisfied: tzdata>=2022.7 in /usr/local/lib/python3.11/dist-packages (from pandas>=1.5.0->fastparquet) (2025.2)\n",
      "Requirement already satisfied: mkl_fft in /usr/local/lib/python3.11/dist-packages (from numpy->fastparquet) (1.3.8)\n",
      "Requirement already satisfied: mkl_random in /usr/local/lib/python3.11/dist-packages (from numpy->fastparquet) (1.2.4)\n",
      "Requirement already satisfied: mkl_umath in /usr/local/lib/python3.11/dist-packages (from numpy->fastparquet) (0.1.1)\n",
      "Requirement already satisfied: mkl in /usr/local/lib/python3.11/dist-packages (from numpy->fastparquet) (2025.2.0)\n",
      "Requirement already satisfied: tbb4py in /usr/local/lib/python3.11/dist-packages (from numpy->fastparquet) (2022.2.0)\n",
      "Requirement already satisfied: mkl-service in /usr/local/lib/python3.11/dist-packages (from numpy->fastparquet) (2.4.1)\n",
      "Requirement already satisfied: six>=1.5 in /usr/local/lib/python3.11/dist-packages (from python-dateutil>=2.8.2->pandas>=1.5.0->fastparquet) (1.17.0)\n",
      "Requirement already satisfied: intel-openmp<2026,>=2024 in /usr/local/lib/python3.11/dist-packages (from mkl->numpy->fastparquet) (2024.2.0)\n",
      "Requirement already satisfied: tbb==2022.* in /usr/local/lib/python3.11/dist-packages (from mkl->numpy->fastparquet) (2022.2.0)\n",
      "Requirement already satisfied: tcmlib==1.* in /usr/local/lib/python3.11/dist-packages (from tbb==2022.*->mkl->numpy->fastparquet) (1.4.0)\n",
      "Requirement already satisfied: intel-cmplr-lib-rt in /usr/local/lib/python3.11/dist-packages (from mkl_umath->numpy->fastparquet) (2024.2.0)\n",
      "Requirement already satisfied: intel-cmplr-lib-ur==2024.2.0 in /usr/local/lib/python3.11/dist-packages (from intel-openmp<2026,>=2024->mkl->numpy->fastparquet) (2024.2.0)\n"
     ]
    }
   ],
   "source": [
    "!pip install fastparquet"
   ]
  },
  {
   "cell_type": "code",
   "execution_count": 2,
   "id": "16ecda7f",
   "metadata": {
    "execution": {
     "iopub.execute_input": "2025-10-04T10:47:49.078026Z",
     "iopub.status.busy": "2025-10-04T10:47:49.077569Z",
     "iopub.status.idle": "2025-10-04T10:47:49.082518Z",
     "shell.execute_reply": "2025-10-04T10:47:49.081463Z",
     "shell.execute_reply.started": "2025-10-04T10:47:49.077994Z"
    },
    "trusted": true
   },
   "outputs": [],
   "source": [
    "import pandas as pd\n",
    "import os\n",
    "import re"
   ]
  },
  {
   "cell_type": "code",
   "execution_count": 9,
   "id": "5ea812ca",
   "metadata": {
    "execution": {
     "iopub.execute_input": "2025-10-04T10:47:49.843723Z",
     "iopub.status.busy": "2025-10-04T10:47:49.843343Z",
     "iopub.status.idle": "2025-10-04T10:47:49.850014Z",
     "shell.execute_reply": "2025-10-04T10:47:49.848615Z",
     "shell.execute_reply.started": "2025-10-04T10:47:49.843694Z"
    },
    "trusted": true
   },
   "outputs": [],
   "source": [
    "def sort_num(el):\n",
    "    num = re.search(r\"version_02_(\\w+)_(.+)\\..+\", el)\n",
    "    part = num.group(2)\n",
    "    if part == 'final':\n",
    "        return float('inf')\n",
    "    else:\n",
    "        return int(part)\n",
    "FOLDERS = ['init_df/', 'init_df_not_in_koi/']\n",
    "START_INDEX = 0\n",
    "END_INDEX = 2"
   ]
  },
  {
   "cell_type": "code",
   "execution_count": 10,
   "id": "00b54643",
   "metadata": {},
   "outputs": [
    {
     "data": {
      "text/plain": [
       "False"
      ]
     },
     "execution_count": 10,
     "metadata": {},
     "output_type": "execute_result"
    }
   ],
   "source": [
    "'init_df' in '/kaggle/input/nasa-cooked/init_df_not_in_koi/'.split('/')"
   ]
  },
  {
   "cell_type": "code",
   "execution_count": 11,
   "id": "5571e267",
   "metadata": {
    "execution": {
     "iopub.execute_input": "2025-10-04T10:47:52.330727Z",
     "iopub.status.busy": "2025-10-04T10:47:52.330040Z",
     "iopub.status.idle": "2025-10-04T10:47:52.361180Z",
     "shell.execute_reply": "2025-10-04T10:47:52.360367Z",
     "shell.execute_reply.started": "2025-10-04T10:47:52.330696Z"
    },
    "trusted": true
   },
   "outputs": [
    {
     "name": "stdout",
     "output_type": "stream",
     "text": [
      "['df_version_02_value_14.parquet', 'df_version_02_id_13.csv', 'df_version_02_value_12.parquet', 'df_version_02_value_5.parquet', 'df_version_02_id_5.csv', 'df_version_02_id_7.csv', 'df_version_02_id_9.csv', 'df_version_02_value_9.parquet', 'df_version_02_id_10.csv', 'df_version_02_value_6.parquet', 'df_version_02_value_4.parquet', 'df_version_02_value_3.parquet', 'df_version_02_id_6.csv', 'df_version_02_value_15.parquet', 'df_version_02_id_15.csv', 'df_version_02_id_4.csv', 'df_version_02_id_2.csv', 'df_version_02_id_12.csv', 'df_version_02_id_11.csv', 'df_version_02_id_3.csv', 'df_version_02_id_8.csv', 'df_version_02_value_8.parquet', 'df_version_02_value_13.parquet', 'df_version_02_value_10.parquet', 'df_version_02_value_1.parquet', 'df_version_02_id_16.csv', 'df_version_02_value_11.parquet', 'df_version_02_id_14.csv', 'df_version_02_value_2.parquet', 'df_version_02_id_1.csv', 'df_version_02_value_7.parquet', 'df_version_02_value_16.parquet']\n",
      "['df_version_02_value_14.parquet', 'df_version_02_id_final.csv', 'df_version_02_id_13.csv', 'df_version_02_value_12.parquet', 'df_version_02_value_final.parquet', 'df_version_02_value_5.parquet', 'df_version_02_id_5.csv', 'df_version_02_id_7.csv', 'df_version_02_id_9.csv', 'df_version_02_value_9.parquet', 'df_version_02_id_10.csv', 'df_version_02_value_6.parquet', 'df_version_02_value_4.parquet', 'df_version_02_value_3.parquet', 'df_version_02_id_6.csv', 'df_version_02_value_15.parquet', 'df_version_02_id_15.csv', 'already_processed_tbls.txt', 'df_version_02_id_4.csv', 'df_version_02_id_2.csv', 'df_version_02_id_12.csv', 'df_version_02_id_11.csv', 'df_version_02_id_3.csv', 'df_version_02_id_8.csv', 'df_version_02_value_8.parquet', 'df_version_02_value_13.parquet', 'df_version_02_value_10.parquet', 'df_version_02_value_1.parquet', 'df_version_02_id_16.csv', 'df_version_02_value_11.parquet', 'df_version_02_id_14.csv', 'df_version_02_value_2.parquet', 'df_version_02_id_1.csv', 'df_version_02_value_7.parquet', 'df_version_02_value_16.parquet']\n"
     ]
    }
   ],
   "source": [
    "parquets = []\n",
    "csvs = []\n",
    "for f in FOLDERS:\n",
    "    l = os.listdir(f)\n",
    "    print(l)\n",
    "    parquets.append([el for el in l if el.endswith('.parquet')])\n",
    "    csvs.append([el for el in l if el.endswith('.csv')])\n",
    "    \n",
    "    parquets[-1].sort(key=sort_num)\n",
    "    csvs[-1].sort(key=sort_num)"
   ]
  },
  {
   "cell_type": "code",
   "execution_count": null,
   "id": "91c620bb",
   "metadata": {
    "execution": {
     "iopub.execute_input": "2025-10-04T10:47:55.370190Z",
     "iopub.status.busy": "2025-10-04T10:47:55.369852Z",
     "iopub.status.idle": "2025-10-04T10:48:00.893761Z",
     "shell.execute_reply": "2025-10-04T10:48:00.892726Z",
     "shell.execute_reply.started": "2025-10-04T10:47:55.370155Z"
    },
    "trusted": true
   },
   "outputs": [],
   "source": [
    "# df_values_loaded = pd.read_parquet(FOLDERS[0] + 'df_version_02_value_1.parquet', engine=\"fastparquet\")\n",
    "# df_ids_loaded = pd.read_csv(FOLDERS[0] + 'df_version_02_id_1.csv')\n",
    "# df_trunk = pd.concat([df_ids_loaded, df_values_loaded.T.reset_index(drop=True)], axis=1)\n",
    "# df_trunk.set_index(['KEPID','PLANET_NUM'], inplace=True)\n",
    "# full_df = pd.DataFrame(columns=df_trunk.columns)\n",
    "# full_df.index.name = df_trunk.index.name"
   ]
  },
  {
   "cell_type": "code",
   "execution_count": null,
   "id": "14577684",
   "metadata": {
    "execution": {
     "execution_failed": "2025-10-04T10:53:38.366Z",
     "iopub.execute_input": "2025-10-04T10:48:07.973469Z",
     "iopub.status.busy": "2025-10-04T10:48:07.973113Z"
    },
    "trusted": true
   },
   "outputs": [],
   "source": [
    "dfs_to_concat = []\n",
    "for f, csv_list, parquet_list in zip(FOLDERS, csvs, parquets):\n",
    "    for pair in zip(csv_list[START_INDEX:END_INDEX], parquet_list[START_INDEX:END_INDEX]):\n",
    "        df_values_loaded = pd.read_parquet(f + pair[1], engine=\"fastparquet\")\n",
    "        df_ids_loaded = pd.read_csv(f + pair[0])\n",
    "        if 'init_df' in f.split('/'):\n",
    "            df_part = pd.concat([df_ids_loaded, df_values_loaded.T.reset_index(drop=True)], axis=1)\n",
    "        else:\n",
    "            df_part = pd.concat([df_ids_loaded, df_values_loaded], axis=1)\n",
    "        df_part.set_index(['KEPID', 'PLANET_NUM'], inplace=True)\n",
    "        dfs_to_concat.append(df_part)\n",
    "\n",
    "full_df = pd.concat(dfs_to_concat, axis=0)"
   ]
  },
  {
   "cell_type": "code",
   "execution_count": 13,
   "id": "086bfe07",
   "metadata": {},
   "outputs": [
    {
     "data": {
      "text/html": [
       "<div>\n",
       "<style scoped>\n",
       "    .dataframe tbody tr th:only-of-type {\n",
       "        vertical-align: middle;\n",
       "    }\n",
       "\n",
       "    .dataframe tbody tr th {\n",
       "        vertical-align: top;\n",
       "    }\n",
       "\n",
       "    .dataframe thead th {\n",
       "        text-align: right;\n",
       "    }\n",
       "</style>\n",
       "<table border=\"1\" class=\"dataframe\">\n",
       "  <thead>\n",
       "    <tr style=\"text-align: right;\">\n",
       "      <th></th>\n",
       "      <th></th>\n",
       "      <th>LABEL</th>\n",
       "      <th>0</th>\n",
       "      <th>1</th>\n",
       "      <th>2</th>\n",
       "      <th>3</th>\n",
       "      <th>4</th>\n",
       "      <th>5</th>\n",
       "      <th>6</th>\n",
       "      <th>7</th>\n",
       "      <th>8</th>\n",
       "      <th>...</th>\n",
       "      <th>71990</th>\n",
       "      <th>71991</th>\n",
       "      <th>71992</th>\n",
       "      <th>71993</th>\n",
       "      <th>71994</th>\n",
       "      <th>71995</th>\n",
       "      <th>71996</th>\n",
       "      <th>71997</th>\n",
       "      <th>71998</th>\n",
       "      <th>71999</th>\n",
       "    </tr>\n",
       "    <tr>\n",
       "      <th>KEPID</th>\n",
       "      <th>PLANET_NUM</th>\n",
       "      <th></th>\n",
       "      <th></th>\n",
       "      <th></th>\n",
       "      <th></th>\n",
       "      <th></th>\n",
       "      <th></th>\n",
       "      <th></th>\n",
       "      <th></th>\n",
       "      <th></th>\n",
       "      <th></th>\n",
       "      <th></th>\n",
       "      <th></th>\n",
       "      <th></th>\n",
       "      <th></th>\n",
       "      <th></th>\n",
       "      <th></th>\n",
       "      <th></th>\n",
       "      <th></th>\n",
       "      <th></th>\n",
       "      <th></th>\n",
       "      <th></th>\n",
       "    </tr>\n",
       "  </thead>\n",
       "  <tbody>\n",
       "    <tr>\n",
       "      <th>4947726</th>\n",
       "      <th>1</th>\n",
       "      <td>2</td>\n",
       "      <td>0.001355</td>\n",
       "      <td>0.001094</td>\n",
       "      <td>0.000984</td>\n",
       "      <td>0.002461</td>\n",
       "      <td>0.001053</td>\n",
       "      <td>0.001571</td>\n",
       "      <td>0.000881</td>\n",
       "      <td>0.001698</td>\n",
       "      <td>0.000881</td>\n",
       "      <td>...</td>\n",
       "      <td>NaN</td>\n",
       "      <td>NaN</td>\n",
       "      <td>NaN</td>\n",
       "      <td>NaN</td>\n",
       "      <td>NaN</td>\n",
       "      <td>NaN</td>\n",
       "      <td>NaN</td>\n",
       "      <td>NaN</td>\n",
       "      <td>NaN</td>\n",
       "      <td>NaN</td>\n",
       "    </tr>\n",
       "    <tr>\n",
       "      <th>4948863</th>\n",
       "      <th>1</th>\n",
       "      <td>2</td>\n",
       "      <td>NaN</td>\n",
       "      <td>-0.000526</td>\n",
       "      <td>0.000629</td>\n",
       "      <td>-0.000221</td>\n",
       "      <td>-0.000096</td>\n",
       "      <td>0.000359</td>\n",
       "      <td>-0.000280</td>\n",
       "      <td>0.000072</td>\n",
       "      <td>-0.000017</td>\n",
       "      <td>...</td>\n",
       "      <td>NaN</td>\n",
       "      <td>NaN</td>\n",
       "      <td>NaN</td>\n",
       "      <td>NaN</td>\n",
       "      <td>NaN</td>\n",
       "      <td>NaN</td>\n",
       "      <td>NaN</td>\n",
       "      <td>NaN</td>\n",
       "      <td>NaN</td>\n",
       "      <td>NaN</td>\n",
       "    </tr>\n",
       "    <tr>\n",
       "      <th>8308516</th>\n",
       "      <th>2</th>\n",
       "      <td>1</td>\n",
       "      <td>0.000144</td>\n",
       "      <td>0.000246</td>\n",
       "      <td>0.000114</td>\n",
       "      <td>0.000394</td>\n",
       "      <td>-0.000027</td>\n",
       "      <td>0.000200</td>\n",
       "      <td>-0.000162</td>\n",
       "      <td>0.000184</td>\n",
       "      <td>-0.000020</td>\n",
       "      <td>...</td>\n",
       "      <td>NaN</td>\n",
       "      <td>NaN</td>\n",
       "      <td>NaN</td>\n",
       "      <td>NaN</td>\n",
       "      <td>NaN</td>\n",
       "      <td>NaN</td>\n",
       "      <td>NaN</td>\n",
       "      <td>NaN</td>\n",
       "      <td>NaN</td>\n",
       "      <td>NaN</td>\n",
       "    </tr>\n",
       "    <tr>\n",
       "      <th>5529501</th>\n",
       "      <th>1</th>\n",
       "      <td>2</td>\n",
       "      <td>0.000008</td>\n",
       "      <td>-0.000086</td>\n",
       "      <td>0.000228</td>\n",
       "      <td>0.000089</td>\n",
       "      <td>0.000073</td>\n",
       "      <td>0.000105</td>\n",
       "      <td>0.000106</td>\n",
       "      <td>0.000033</td>\n",
       "      <td>-0.000058</td>\n",
       "      <td>...</td>\n",
       "      <td>NaN</td>\n",
       "      <td>NaN</td>\n",
       "      <td>NaN</td>\n",
       "      <td>NaN</td>\n",
       "      <td>NaN</td>\n",
       "      <td>NaN</td>\n",
       "      <td>NaN</td>\n",
       "      <td>NaN</td>\n",
       "      <td>NaN</td>\n",
       "      <td>NaN</td>\n",
       "    </tr>\n",
       "    <tr>\n",
       "      <th>5529560</th>\n",
       "      <th>1</th>\n",
       "      <td>2</td>\n",
       "      <td>NaN</td>\n",
       "      <td>NaN</td>\n",
       "      <td>NaN</td>\n",
       "      <td>NaN</td>\n",
       "      <td>NaN</td>\n",
       "      <td>NaN</td>\n",
       "      <td>NaN</td>\n",
       "      <td>NaN</td>\n",
       "      <td>NaN</td>\n",
       "      <td>...</td>\n",
       "      <td>NaN</td>\n",
       "      <td>NaN</td>\n",
       "      <td>NaN</td>\n",
       "      <td>NaN</td>\n",
       "      <td>NaN</td>\n",
       "      <td>NaN</td>\n",
       "      <td>NaN</td>\n",
       "      <td>NaN</td>\n",
       "      <td>NaN</td>\n",
       "      <td>NaN</td>\n",
       "    </tr>\n",
       "  </tbody>\n",
       "</table>\n",
       "<p>5 rows × 72001 columns</p>\n",
       "</div>"
      ],
      "text/plain": [
       "                    LABEL         0         1         2         3         4  \\\n",
       "KEPID   PLANET_NUM                                                            \n",
       "4947726 1               2  0.001355  0.001094  0.000984  0.002461  0.001053   \n",
       "4948863 1               2       NaN -0.000526  0.000629 -0.000221 -0.000096   \n",
       "8308516 2               1  0.000144  0.000246  0.000114  0.000394 -0.000027   \n",
       "5529501 1               2  0.000008 -0.000086  0.000228  0.000089  0.000073   \n",
       "5529560 1               2       NaN       NaN       NaN       NaN       NaN   \n",
       "\n",
       "                           5         6         7         8  ...  71990  71991  \\\n",
       "KEPID   PLANET_NUM                                          ...                 \n",
       "4947726 1           0.001571  0.000881  0.001698  0.000881  ...    NaN    NaN   \n",
       "4948863 1           0.000359 -0.000280  0.000072 -0.000017  ...    NaN    NaN   \n",
       "8308516 2           0.000200 -0.000162  0.000184 -0.000020  ...    NaN    NaN   \n",
       "5529501 1           0.000105  0.000106  0.000033 -0.000058  ...    NaN    NaN   \n",
       "5529560 1                NaN       NaN       NaN       NaN  ...    NaN    NaN   \n",
       "\n",
       "                    71992  71993  71994  71995  71996  71997  71998  71999  \n",
       "KEPID   PLANET_NUM                                                          \n",
       "4947726 1             NaN    NaN    NaN    NaN    NaN    NaN    NaN    NaN  \n",
       "4948863 1             NaN    NaN    NaN    NaN    NaN    NaN    NaN    NaN  \n",
       "8308516 2             NaN    NaN    NaN    NaN    NaN    NaN    NaN    NaN  \n",
       "5529501 1             NaN    NaN    NaN    NaN    NaN    NaN    NaN    NaN  \n",
       "5529560 1             NaN    NaN    NaN    NaN    NaN    NaN    NaN    NaN  \n",
       "\n",
       "[5 rows x 72001 columns]"
      ]
     },
     "execution_count": 13,
     "metadata": {},
     "output_type": "execute_result"
    }
   ],
   "source": [
    "df_trunk.tail()"
   ]
  },
  {
   "cell_type": "code",
   "execution_count": 17,
   "id": "74288141",
   "metadata": {},
   "outputs": [
    {
     "data": {
      "text/plain": [
       "LABEL\n",
       "2    3551\n",
       "0    2688\n",
       "1    1261\n",
       "Name: count, dtype: int64"
      ]
     },
     "execution_count": 14,
     "metadata": {},
     "output_type": "execute_result"
    }
   ],
   "source": [
    "df_trunk['LABEL'].value_counts()"
   ]
  },
  {
   "cell_type": "code",
   "execution_count": 18,
   "id": "80da8e56",
   "metadata": {},
   "outputs": [],
   "source": [
    "#{\"CONFIRMED\": 0, \"CANDIDATE\": 1, \"FALSE POSITIVE\": 2}\n",
    "# marked candidates as confirmed to simulate robovetter. may change in the future\n",
    "#df_trunk.loc[df_trunk['LABEL'] == 1, 'LABEL'] = 0"
   ]
  },
  {
   "cell_type": "code",
   "execution_count": 21,
   "id": "578dde0d",
   "metadata": {},
   "outputs": [],
   "source": [
    "df_trunk_new = df_trunk.copy()"
   ]
  },
  {
   "cell_type": "code",
   "execution_count": 29,
   "id": "e80a3dc5",
   "metadata": {},
   "outputs": [],
   "source": [
    "drop_df = pd.read_csv('../drop_df.csv').set_index(['kepid', 'koi_tce_plnt_num'])"
   ]
  },
  {
   "cell_type": "code",
   "execution_count": 30,
   "id": "cf3b13b4",
   "metadata": {},
   "outputs": [
    {
     "data": {
      "text/html": [
       "<div>\n",
       "<style scoped>\n",
       "    .dataframe tbody tr th:only-of-type {\n",
       "        vertical-align: middle;\n",
       "    }\n",
       "\n",
       "    .dataframe tbody tr th {\n",
       "        vertical-align: top;\n",
       "    }\n",
       "\n",
       "    .dataframe thead th {\n",
       "        text-align: right;\n",
       "    }\n",
       "</style>\n",
       "<table border=\"1\" class=\"dataframe\">\n",
       "  <thead>\n",
       "    <tr style=\"text-align: right;\">\n",
       "      <th></th>\n",
       "      <th></th>\n",
       "      <th>koi_disposition</th>\n",
       "      <th>koi_score</th>\n",
       "    </tr>\n",
       "    <tr>\n",
       "      <th>kepid</th>\n",
       "      <th>koi_tce_plnt_num</th>\n",
       "      <th></th>\n",
       "      <th></th>\n",
       "    </tr>\n",
       "  </thead>\n",
       "  <tbody>\n",
       "    <tr>\n",
       "      <th>10811496</th>\n",
       "      <th>1.000000</th>\n",
       "      <td>CANDIDATE</td>\n",
       "      <td>0.0</td>\n",
       "    </tr>\n",
       "    <tr>\n",
       "      <th>4936180</th>\n",
       "      <th>1.000000</th>\n",
       "      <td>CANDIDATE</td>\n",
       "      <td>0.0</td>\n",
       "    </tr>\n",
       "    <tr>\n",
       "      <th>5115978</th>\n",
       "      <th>1.243654</th>\n",
       "      <td>CANDIDATE</td>\n",
       "      <td>0.0</td>\n",
       "    </tr>\n",
       "    <tr>\n",
       "      <th>6599919</th>\n",
       "      <th>1.000000</th>\n",
       "      <td>CANDIDATE</td>\n",
       "      <td>0.0</td>\n",
       "    </tr>\n",
       "    <tr>\n",
       "      <th>7031517</th>\n",
       "      <th>1.000000</th>\n",
       "      <td>CANDIDATE</td>\n",
       "      <td>0.0</td>\n",
       "    </tr>\n",
       "  </tbody>\n",
       "</table>\n",
       "</div>"
      ],
      "text/plain": [
       "                          koi_disposition  koi_score\n",
       "kepid    koi_tce_plnt_num                           \n",
       "10811496 1.000000               CANDIDATE        0.0\n",
       "4936180  1.000000               CANDIDATE        0.0\n",
       "5115978  1.243654               CANDIDATE        0.0\n",
       "6599919  1.000000               CANDIDATE        0.0\n",
       "7031517  1.000000               CANDIDATE        0.0"
      ]
     },
     "execution_count": 30,
     "metadata": {},
     "output_type": "execute_result"
    }
   ],
   "source": [
    "drop_df.head()"
   ]
  },
  {
   "cell_type": "code",
   "execution_count": 31,
   "id": "c52860e0",
   "metadata": {},
   "outputs": [],
   "source": [
    "df_trunk_new.loc[(df_trunk_new['LABEL'] == 1) & (df_trunk_new.index.isin(drop_df.index)), 'LABEL'] = 2 #if it's candidate and present in drop_df means it's false positive\n",
    "df_trunk_new.loc[(df_trunk_new['LABEL'] == 1) & (~df_trunk_new.index.isin(drop_df.index)), 'LABEL'] = 0 #if it's candidate and NOT present means it's prob a planet"
   ]
  },
  {
   "cell_type": "code",
   "execution_count": 33,
   "id": "5d230085",
   "metadata": {},
   "outputs": [
    {
     "data": {
      "text/plain": [
       "LABEL\n",
       "0    5552\n",
       "2    2948\n",
       "Name: count, dtype: int64"
      ]
     },
     "execution_count": 33,
     "metadata": {},
     "output_type": "execute_result"
    }
   ],
   "source": [
    "df_trunk_new['LABEL'].value_counts()"
   ]
  },
  {
   "cell_type": "code",
   "execution_count": 34,
   "id": "d1176eae",
   "metadata": {},
   "outputs": [
    {
     "data": {
      "text/plain": [
       "LABEL\n",
       "0    3108\n",
       "2    2755\n",
       "1    2637\n",
       "Name: count, dtype: int64"
      ]
     },
     "execution_count": 34,
     "metadata": {},
     "output_type": "execute_result"
    }
   ],
   "source": [
    "df_trunk['LABEL'].value_counts()"
   ]
  },
  {
   "cell_type": "code",
   "execution_count": 20,
   "id": "2f203a3a",
   "metadata": {},
   "outputs": [
    {
     "data": {
      "text/plain": [
       "(8500, 70001)"
      ]
     },
     "execution_count": 20,
     "metadata": {},
     "output_type": "execute_result"
    }
   ],
   "source": [
    "df_trunk.shape"
   ]
  },
  {
   "cell_type": "code",
   "execution_count": null,
   "id": "99e996a3",
   "metadata": {},
   "outputs": [],
   "source": []
  }
 ],
 "metadata": {
  "kaggle": {
   "accelerator": "none",
   "dataSources": [
    {
     "databundleVersionId": 13956419,
     "datasetId": 8353289,
     "sourceId": 13258510,
     "sourceType": "datasetVersion"
    }
   ],
   "dockerImageVersionId": 31089,
   "isGpuEnabled": false,
   "isInternetEnabled": true,
   "language": "python",
   "sourceType": "notebook"
  },
  "kernelspec": {
   "display_name": ".venv",
   "language": "python",
   "name": "python3"
  },
  "language_info": {
   "codemirror_mode": {
    "name": "ipython",
    "version": 3
   },
   "file_extension": ".py",
   "mimetype": "text/x-python",
   "name": "python",
   "nbconvert_exporter": "python",
   "pygments_lexer": "ipython3",
   "version": "3.13.5"
  }
 },
 "nbformat": 4,
 "nbformat_minor": 5
}
