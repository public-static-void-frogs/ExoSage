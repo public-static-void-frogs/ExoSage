{
 "cells": [
  {
   "cell_type": "code",
   "execution_count": 1,
   "id": "304066ce",
   "metadata": {},
   "outputs": [],
   "source": [
    "import pandas as pd\n",
    "import re\n",
    "from multiprocessing import Pool\n",
    "import subprocess\n",
    "from concurrent.futures import ThreadPoolExecutor\n",
    "from pathlib import Path"
   ]
  },
  {
   "cell_type": "code",
   "execution_count": 2,
   "id": "fb791666",
   "metadata": {},
   "outputs": [],
   "source": [
    "filename = 'Kepler_TCE_DV_DR25_wget.bat'\n",
    "rows = []\n",
    "with open(filename, \"r\") as f:\n",
    "    for line in f:\n",
    "        l = line.strip()\n",
    "        if l.startswith('wget'):\n",
    "            if l.endswith(\".tbl' -a search_14666024.log\"):\n",
    "                kepid_match = re.search(r'kplr(\\d+)_', line)\n",
    "                if kepid_match:\n",
    "                    kepid = kepid_match.group(1)\n",
    "                    rows.append([kepid, l])\n",
    "kepid_wget = pd.DataFrame(rows, columns = ['kepid', 'wget_script'])\n",
    "kepid_wget['kepid'] = kepid_wget['kepid'].apply(int)\n",
    "kepid_wget.to_csv('kepid_wget_scripts.csv')"
   ]
  },
  {
   "cell_type": "code",
   "execution_count": 3,
   "id": "55c37e98",
   "metadata": {},
   "outputs": [
    {
     "data": {
      "text/plain": [
       "(34031, 2)"
      ]
     },
     "execution_count": 3,
     "metadata": {},
     "output_type": "execute_result"
    }
   ],
   "source": [
    "kepid_wget.shape"
   ]
  },
  {
   "cell_type": "code",
   "execution_count": 4,
   "id": "15cfe818",
   "metadata": {},
   "outputs": [
    {
     "data": {
      "text/plain": [
       "(9564, 141)"
      ]
     },
     "execution_count": 4,
     "metadata": {},
     "output_type": "execute_result"
    }
   ],
   "source": [
    "koi = pd.read_csv('koi_last_cumulative.csv', comment='#')\n",
    "koi.shape"
   ]
  },
  {
   "cell_type": "code",
   "execution_count": 5,
   "id": "778ca0d6",
   "metadata": {},
   "outputs": [
    {
     "data": {
      "text/plain": [
       "10088"
      ]
     },
     "execution_count": 5,
     "metadata": {},
     "output_type": "execute_result"
    }
   ],
   "source": [
    "kepid_intersection = list(set(koi['kepid']) & set(kepid_wget['kepid']))\n",
    "kepid_not_in_koi = list(set(kepid_wget['kepid']) - set(koi['kepid']))\n",
    "len(kepid_not_in_koi)"
   ]
  },
  {
   "cell_type": "code",
   "execution_count": 6,
   "id": "a060bc0b",
   "metadata": {},
   "outputs": [],
   "source": [
    "WORKING_DF = kepid_not_in_koi.copy()\n",
    "TABLES_FOLDER = './tbls_not_in_koi'"
   ]
  },
  {
   "cell_type": "code",
   "execution_count": 7,
   "id": "42575f5e",
   "metadata": {},
   "outputs": [],
   "source": [
    "#drop already present\n",
    "tbl_files = Path(TABLES_FOLDER).iterdir()\n",
    "for tbl_file in tbl_files:\n",
    "    r = re.search(r'kplr(\\d+)_', str(tbl_file))\n",
    "    if r:\n",
    "        kepid = int(r.group(1))\n",
    "        #ascii_planet_num = int(re.search(r'tce_(\\d+)_', str(tbl_file)).group(1))\n",
    "        if kepid in WORKING_DF : WORKING_DF.remove(kepid)"
   ]
  },
  {
   "cell_type": "code",
   "execution_count": 8,
   "id": "a43ec302",
   "metadata": {},
   "outputs": [
    {
     "data": {
      "text/plain": [
       "7318"
      ]
     },
     "execution_count": 8,
     "metadata": {},
     "output_type": "execute_result"
    }
   ],
   "source": [
    "len(WORKING_DF)"
   ]
  },
  {
   "cell_type": "code",
   "execution_count": 9,
   "id": "3573eb2a",
   "metadata": {},
   "outputs": [],
   "source": [
    "def process_kepid_list_download(kepid_command_df, kepid_sublist, dest_folder, num_threads=4):\n",
    "    for kepid in kepid_sublist:\n",
    "        rows = kepid_command_df[kepid_command_df['kepid'] == kepid]\n",
    "        with ThreadPoolExecutor(max_workers = num_threads) as executor:\n",
    "            for _, row in rows.iterrows():\n",
    "                executor.submit(subprocess.run, row['wget_script'], shell=True, cwd=dest_folder)\n",
    "\n",
    "def run(process_num, num_threads, kepids_list, dest_folder):\n",
    "    chunks = [kepids_list[i::process_num] for i in range(process_num)]\n",
    "    for chunk in chunks:\n",
    "        print(\"chunk len\", len(chunk))\n",
    "    func_args = [(kepid_wget, chunk, dest_folder, num_threads) for chunk in chunks]\n",
    "    with Pool(processes=process_num) as pool:\n",
    "        pool.starmap(process_kepid_list_download, func_args)"
   ]
  },
  {
   "cell_type": "code",
   "execution_count": null,
   "id": "94f48c8b",
   "metadata": {},
   "outputs": [
    {
     "name": "stdout",
     "output_type": "stream",
     "text": [
      "chunk len 1830\n",
      "chunk len 1830\n",
      "chunk len 1829\n",
      "chunk len 1829\n"
     ]
    }
   ],
   "source": [
    "PROCESS_NUM = 4\n",
    "THREADS_NUM = 8 #for each process\n",
    "run(PROCESS_NUM, THREADS_NUM, WORKING_DF, TABLES_FOLDER)"
   ]
  }
 ],
 "metadata": {
  "kernelspec": {
   "display_name": ".venv",
   "language": "python",
   "name": "python3"
  },
  "language_info": {
   "codemirror_mode": {
    "name": "ipython",
    "version": 3
   },
   "file_extension": ".py",
   "mimetype": "text/x-python",
   "name": "python",
   "nbconvert_exporter": "python",
   "pygments_lexer": "ipython3",
   "version": "3.13.5"
  }
 },
 "nbformat": 4,
 "nbformat_minor": 5
}
