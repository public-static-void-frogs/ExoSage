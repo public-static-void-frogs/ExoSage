{
 "cells": [
  {
   "metadata": {},
   "cell_type": "code",
   "outputs": [],
   "execution_count": null,
   "source": [
    "# !pip install pandas\n",
    "# !pip install lightkurve"
   ],
   "id": "5b9f9e45331685b5"
  },
  {
   "metadata": {
    "ExecuteTime": {
     "end_time": "2025-09-28T11:56:20.010298Z",
     "start_time": "2025-09-28T11:56:18.255694Z"
    }
   },
   "cell_type": "code",
   "source": [
    "import uuid\n",
    "import pandas as pd\n",
    "from multiprocessing import Pool\n",
    "from concurrent.futures import ThreadPoolExecutor\n",
    "from lightkurve import search_lightcurve"
   ],
   "id": "1742e7ba4da5f496",
   "outputs": [
    {
     "name": "stderr",
     "output_type": "stream",
     "text": [
      "D:\\KPI\\ml\\k2_data_pipeline\\.venv\\Lib\\site-packages\\lightkurve\\prf\\__init__.py:7: UserWarning: Warning: the tpfmodel submodule is not available without oktopus installed, which requires a current version of autograd. See #1452 for details.\n",
      "  warnings.warn(\n"
     ]
    }
   ],
   "execution_count": 1
  },
  {
   "metadata": {
    "ExecuteTime": {
     "end_time": "2025-09-28T11:56:20.103748Z",
     "start_time": "2025-09-28T11:56:20.087606Z"
    }
   },
   "cell_type": "code",
   "source": [
    "FITS_FOLDER = 'k2_fits'\n",
    "TXT_FOLDER = 'k2_csvs'"
   ],
   "id": "fb5a4a307f97b5fe",
   "outputs": [],
   "execution_count": 2
  },
  {
   "metadata": {
    "ExecuteTime": {
     "end_time": "2025-09-28T11:56:21.720252Z",
     "start_time": "2025-09-28T11:56:21.608558Z"
    }
   },
   "cell_type": "code",
   "source": "k2_df = pd.read_csv(\"k2pandc_2025.09.27_05.35.35.csv\")[[\"tic_id\", \"hostname\", \"disposition\"]]",
   "id": "40f70e52da2af15e",
   "outputs": [],
   "execution_count": 4
  },
  {
   "metadata": {
    "ExecuteTime": {
     "end_time": "2025-09-28T11:56:22.320802Z",
     "start_time": "2025-09-28T11:56:22.305875Z"
    }
   },
   "cell_type": "code",
   "source": "k2_df.head()",
   "id": "d206faef69da1b0e",
   "outputs": [
    {
     "data": {
      "text/plain": [
       "          tic_id        hostname disposition\n",
       "0   TIC 26123781       BD+20 594   CONFIRMED\n",
       "1   TIC 26123781       BD+20 594   CONFIRMED\n",
       "2   TIC 26123781       BD+20 594   CONFIRMED\n",
       "3  TIC 176942156  EPIC 201111557   CANDIDATE\n",
       "4  TIC 176942156  EPIC 201111557   CANDIDATE"
      ],
      "text/html": [
       "<div>\n",
       "<style scoped>\n",
       "    .dataframe tbody tr th:only-of-type {\n",
       "        vertical-align: middle;\n",
       "    }\n",
       "\n",
       "    .dataframe tbody tr th {\n",
       "        vertical-align: top;\n",
       "    }\n",
       "\n",
       "    .dataframe thead th {\n",
       "        text-align: right;\n",
       "    }\n",
       "</style>\n",
       "<table border=\"1\" class=\"dataframe\">\n",
       "  <thead>\n",
       "    <tr style=\"text-align: right;\">\n",
       "      <th></th>\n",
       "      <th>tic_id</th>\n",
       "      <th>hostname</th>\n",
       "      <th>disposition</th>\n",
       "    </tr>\n",
       "  </thead>\n",
       "  <tbody>\n",
       "    <tr>\n",
       "      <th>0</th>\n",
       "      <td>TIC 26123781</td>\n",
       "      <td>BD+20 594</td>\n",
       "      <td>CONFIRMED</td>\n",
       "    </tr>\n",
       "    <tr>\n",
       "      <th>1</th>\n",
       "      <td>TIC 26123781</td>\n",
       "      <td>BD+20 594</td>\n",
       "      <td>CONFIRMED</td>\n",
       "    </tr>\n",
       "    <tr>\n",
       "      <th>2</th>\n",
       "      <td>TIC 26123781</td>\n",
       "      <td>BD+20 594</td>\n",
       "      <td>CONFIRMED</td>\n",
       "    </tr>\n",
       "    <tr>\n",
       "      <th>3</th>\n",
       "      <td>TIC 176942156</td>\n",
       "      <td>EPIC 201111557</td>\n",
       "      <td>CANDIDATE</td>\n",
       "    </tr>\n",
       "    <tr>\n",
       "      <th>4</th>\n",
       "      <td>TIC 176942156</td>\n",
       "      <td>EPIC 201111557</td>\n",
       "      <td>CANDIDATE</td>\n",
       "    </tr>\n",
       "  </tbody>\n",
       "</table>\n",
       "</div>"
      ]
     },
     "execution_count": 5,
     "metadata": {},
     "output_type": "execute_result"
    }
   ],
   "execution_count": 5
  },
  {
   "metadata": {
    "ExecuteTime": {
     "end_time": "2025-09-28T11:56:24.148351Z",
     "start_time": "2025-09-28T11:56:24.142478Z"
    }
   },
   "cell_type": "code",
   "source": "k2ids_list = set(k2_df[\"tic_id\"])",
   "id": "4dc8085439bfc418",
   "outputs": [],
   "execution_count": 6
  },
  {
   "metadata": {
    "ExecuteTime": {
     "end_time": "2025-09-28T11:56:24.850781Z",
     "start_time": "2025-09-28T11:56:24.845508Z"
    }
   },
   "cell_type": "code",
   "source": "len(list(k2ids_list))",
   "id": "9489316ef5c0caf1",
   "outputs": [
    {
     "data": {
      "text/plain": [
       "1558"
      ]
     },
     "execution_count": 7,
     "metadata": {},
     "output_type": "execute_result"
    }
   ],
   "execution_count": 7
  },
  {
   "metadata": {
    "ExecuteTime": {
     "end_time": "2025-09-28T11:56:26.431367Z",
     "start_time": "2025-09-28T11:56:26.424929Z"
    }
   },
   "cell_type": "code",
   "source": [
    "def download_curve(object_id, host_id, disposition, author=\"EVEREST\"):\n",
    "    id = str(uuid.uuid1())\n",
    "    df = pd.DataFrame([[object_id, host_id, disposition]], columns=['tic_id', 'hostname', \"disposition\"])\n",
    "    df.to_csv(f'{TXT_FOLDER}/{id}.csv', index=False)\n",
    "    print(f\"{id} metadata downloaded\")\n",
    "    try:\n",
    "        lc = search_lightcurve(object_id).download()\n",
    "        lc.to_fits(path=f'{FITS_FOLDER}/k2_lightcurve_{id}.fits', overwrite=True)\n",
    "        print(f\"{id} downloaded\")\n",
    "    except:\n",
    "        print(f\"{id} failed\")\n"
   ],
   "id": "a6ce6359a2b88e1d",
   "outputs": [],
   "execution_count": 8
  },
  {
   "metadata": {
    "jupyter": {
     "is_executing": true
    },
    "ExecuteTime": {
     "start_time": "2025-09-28T11:56:27.948724Z"
    }
   },
   "cell_type": "code",
   "source": [
    "k2ids_list = list(k2ids_list)\n",
    "for k2id in k2ids_list:\n",
    "    rows = k2_df[k2_df['tic_id'] == k2id]\n",
    "    for i, row in rows.iterrows():\n",
    "        download_curve(row[\"tic_id\"], row[\"hostname\"], row[\"disposition\"])"
   ],
   "id": "23c92618064cf42a",
   "outputs": [
    {
     "name": "stdout",
     "output_type": "stream",
     "text": [
      "2a585795-9c62-11f0-a0e9-ac198eef3d13 metadata downloaded\n",
      "2a585795-9c62-11f0-a0e9-ac198eef3d13 failed\n",
      "2b37d062-9c62-11f0-b798-ac198eef3d13 metadata downloaded\n"
     ]
    },
    {
     "name": "stderr",
     "output_type": "stream",
     "text": [
      "D:\\KPI\\ml\\k2_data_pipeline\\.venv\\Lib\\site-packages\\lightkurve\\search.py:420: LightkurveWarning: Warning: 3 files available to download. Only the first file has been downloaded. Please use `download_all()` or specify additional criteria (e.g. quarter, campaign, or sector) to limit your search.\n",
      "  warnings.warn(\n",
      "WARNING: TimeDeltaMissingUnitWarning: Numerical value without unit or explicit format passed to TimeDelta, assuming days [astropy.time.core]\n"
     ]
    },
    {
     "name": "stdout",
     "output_type": "stream",
     "text": [
      "2b37d062-9c62-11f0-b798-ac198eef3d13 downloaded\n",
      "32ef1368-9c62-11f0-860d-ac198eef3d13 metadata downloaded\n"
     ]
    },
    {
     "name": "stderr",
     "output_type": "stream",
     "text": [
      "D:\\KPI\\ml\\k2_data_pipeline\\.venv\\Lib\\site-packages\\lightkurve\\search.py:420: LightkurveWarning: Warning: 16 files available to download. Only the first file has been downloaded. Please use `download_all()` or specify additional criteria (e.g. quarter, campaign, or sector) to limit your search.\n",
      "  warnings.warn(\n"
     ]
    },
    {
     "name": "stdout",
     "output_type": "stream",
     "text": [
      "32ef1368-9c62-11f0-860d-ac198eef3d13 downloaded\n",
      "3381b5a1-9c62-11f0-a4a0-ac198eef3d13 metadata downloaded\n"
     ]
    },
    {
     "name": "stderr",
     "output_type": "stream",
     "text": [
      "D:\\KPI\\ml\\k2_data_pipeline\\.venv\\Lib\\site-packages\\lightkurve\\search.py:420: LightkurveWarning: Warning: 22 files available to download. Only the first file has been downloaded. Please use `download_all()` or specify additional criteria (e.g. quarter, campaign, or sector) to limit your search.\n",
      "  warnings.warn(\n",
      "WARNING: TimeDeltaMissingUnitWarning: Numerical value without unit or explicit format passed to TimeDelta, assuming days [astropy.time.core]\n",
      "D:\\KPI\\ml\\k2_data_pipeline\\.venv\\Lib\\site-packages\\lightkurve\\search.py:420: LightkurveWarning: Warning: 22 files available to download. Only the first file has been downloaded. Please use `download_all()` or specify additional criteria (e.g. quarter, campaign, or sector) to limit your search.\n",
      "  warnings.warn(\n",
      "WARNING: TimeDeltaMissingUnitWarning: Numerical value without unit or explicit format passed to TimeDelta, assuming days [astropy.time.core]\n",
      "D:\\KPI\\ml\\k2_data_pipeline\\.venv\\Lib\\site-packages\\lightkurve\\search.py:420: LightkurveWarning: Warning: 22 files available to download. Only the first file has been downloaded. Please use `download_all()` or specify additional criteria (e.g. quarter, campaign, or sector) to limit your search.\n",
      "  warnings.warn(\n",
      "WARNING: TimeDeltaMissingUnitWarning: Numerical value without unit or explicit format passed to TimeDelta, assuming days [astropy.time.core]\n",
      "D:\\KPI\\ml\\k2_data_pipeline\\.venv\\Lib\\site-packages\\lightkurve\\search.py:420: LightkurveWarning: Warning: 22 files available to download. Only the first file has been downloaded. Please use `download_all()` or specify additional criteria (e.g. quarter, campaign, or sector) to limit your search.\n",
      "  warnings.warn(\n",
      "WARNING: TimeDeltaMissingUnitWarning: Numerical value without unit or explicit format passed to TimeDelta, assuming days [astropy.time.core]\n"
     ]
    },
    {
     "name": "stdout",
     "output_type": "stream",
     "text": [
      "3381b5a1-9c62-11f0-a4a0-ac198eef3d13 downloaded\n",
      "3b07b4e2-9c62-11f0-8345-ac198eef3d13 metadata downloaded\n",
      "3b07b4e2-9c62-11f0-8345-ac198eef3d13 downloaded\n",
      "3b0f026d-9c62-11f0-9972-ac198eef3d13 metadata downloaded\n",
      "3b0f026d-9c62-11f0-9972-ac198eef3d13 downloaded\n",
      "3b18e307-9c62-11f0-bcf9-ac198eef3d13 metadata downloaded\n",
      "3b18e307-9c62-11f0-bcf9-ac198eef3d13 downloaded\n",
      "3b21491f-9c62-11f0-853d-ac198eef3d13 metadata downloaded\n"
     ]
    },
    {
     "name": "stderr",
     "output_type": "stream",
     "text": [
      "D:\\KPI\\ml\\k2_data_pipeline\\.venv\\Lib\\site-packages\\lightkurve\\search.py:420: LightkurveWarning: Warning: 22 files available to download. Only the first file has been downloaded. Please use `download_all()` or specify additional criteria (e.g. quarter, campaign, or sector) to limit your search.\n",
      "  warnings.warn(\n",
      "WARNING: TimeDeltaMissingUnitWarning: Numerical value without unit or explicit format passed to TimeDelta, assuming days [astropy.time.core]\n"
     ]
    },
    {
     "name": "stdout",
     "output_type": "stream",
     "text": [
      "3b21491f-9c62-11f0-853d-ac198eef3d13 downloaded\n",
      "3b2c7ca8-9c62-11f0-9a9f-ac198eef3d13 metadata downloaded\n"
     ]
    },
    {
     "name": "stderr",
     "output_type": "stream",
     "text": [
      "D:\\KPI\\ml\\k2_data_pipeline\\.venv\\Lib\\site-packages\\lightkurve\\search.py:420: LightkurveWarning: Warning: 6 files available to download. Only the first file has been downloaded. Please use `download_all()` or specify additional criteria (e.g. quarter, campaign, or sector) to limit your search.\n",
      "  warnings.warn(\n",
      "WARNING: TimeDeltaMissingUnitWarning: Numerical value without unit or explicit format passed to TimeDelta, assuming days [astropy.time.core]\n"
     ]
    },
    {
     "name": "stdout",
     "output_type": "stream",
     "text": [
      "3b2c7ca8-9c62-11f0-9a9f-ac198eef3d13 downloaded\n",
      "3e797ac0-9c62-11f0-8b42-ac198eef3d13 metadata downloaded\n"
     ]
    },
    {
     "name": "stderr",
     "output_type": "stream",
     "text": [
      "D:\\KPI\\ml\\k2_data_pipeline\\.venv\\Lib\\site-packages\\lightkurve\\search.py:420: LightkurveWarning: Warning: 18 files available to download. Only the first file has been downloaded. Please use `download_all()` or specify additional criteria (e.g. quarter, campaign, or sector) to limit your search.\n",
      "  warnings.warn(\n",
      "WARNING: TimeDeltaMissingUnitWarning: Numerical value without unit or explicit format passed to TimeDelta, assuming days [astropy.time.core]\n"
     ]
    },
    {
     "name": "stdout",
     "output_type": "stream",
     "text": [
      "3e797ac0-9c62-11f0-8b42-ac198eef3d13 downloaded\n",
      "48e928df-9c62-11f0-b1a1-ac198eef3d13 metadata downloaded\n"
     ]
    },
    {
     "name": "stderr",
     "output_type": "stream",
     "text": [
      "D:\\KPI\\ml\\k2_data_pipeline\\.venv\\Lib\\site-packages\\lightkurve\\search.py:420: LightkurveWarning: Warning: 11 files available to download. Only the first file has been downloaded. Please use `download_all()` or specify additional criteria (e.g. quarter, campaign, or sector) to limit your search.\n",
      "  warnings.warn(\n",
      "WARNING: TimeDeltaMissingUnitWarning: Numerical value without unit or explicit format passed to TimeDelta, assuming days [astropy.time.core]\n",
      "D:\\KPI\\ml\\k2_data_pipeline\\.venv\\Lib\\site-packages\\lightkurve\\search.py:420: LightkurveWarning: Warning: 11 files available to download. Only the first file has been downloaded. Please use `download_all()` or specify additional criteria (e.g. quarter, campaign, or sector) to limit your search.\n",
      "  warnings.warn(\n",
      "WARNING: TimeDeltaMissingUnitWarning: Numerical value without unit or explicit format passed to TimeDelta, assuming days [astropy.time.core]\n",
      "D:\\KPI\\ml\\k2_data_pipeline\\.venv\\Lib\\site-packages\\lightkurve\\search.py:420: LightkurveWarning: Warning: 11 files available to download. Only the first file has been downloaded. Please use `download_all()` or specify additional criteria (e.g. quarter, campaign, or sector) to limit your search.\n",
      "  warnings.warn(\n",
      "WARNING: TimeDeltaMissingUnitWarning: Numerical value without unit or explicit format passed to TimeDelta, assuming days [astropy.time.core]\n",
      "D:\\KPI\\ml\\k2_data_pipeline\\.venv\\Lib\\site-packages\\lightkurve\\search.py:420: LightkurveWarning: Warning: 11 files available to download. Only the first file has been downloaded. Please use `download_all()` or specify additional criteria (e.g. quarter, campaign, or sector) to limit your search.\n",
      "  warnings.warn(\n"
     ]
    },
    {
     "name": "stdout",
     "output_type": "stream",
     "text": [
      "48e928df-9c62-11f0-b1a1-ac198eef3d13 downloaded\n",
      "4caaee9f-9c62-11f0-8c61-ac198eef3d13 metadata downloaded\n",
      "4caaee9f-9c62-11f0-8c61-ac198eef3d13 downloaded\n",
      "4cb3f3f0-9c62-11f0-97d7-ac198eef3d13 metadata downloaded\n",
      "4cb3f3f0-9c62-11f0-97d7-ac198eef3d13 downloaded\n",
      "4cc15990-9c62-11f0-b185-ac198eef3d13 metadata downloaded\n"
     ]
    },
    {
     "name": "stderr",
     "output_type": "stream",
     "text": [
      "WARNING: TimeDeltaMissingUnitWarning: Numerical value without unit or explicit format passed to TimeDelta, assuming days [astropy.time.core]\n",
      "D:\\KPI\\ml\\k2_data_pipeline\\.venv\\Lib\\site-packages\\lightkurve\\search.py:420: LightkurveWarning: Warning: 11 files available to download. Only the first file has been downloaded. Please use `download_all()` or specify additional criteria (e.g. quarter, campaign, or sector) to limit your search.\n",
      "  warnings.warn(\n",
      "WARNING: TimeDeltaMissingUnitWarning: Numerical value without unit or explicit format passed to TimeDelta, assuming days [astropy.time.core]\n",
      "D:\\KPI\\ml\\k2_data_pipeline\\.venv\\Lib\\site-packages\\lightkurve\\search.py:420: LightkurveWarning: Warning: 11 files available to download. Only the first file has been downloaded. Please use `download_all()` or specify additional criteria (e.g. quarter, campaign, or sector) to limit your search.\n",
      "  warnings.warn(\n",
      "WARNING: TimeDeltaMissingUnitWarning: Numerical value without unit or explicit format passed to TimeDelta, assuming days [astropy.time.core]\n",
      "D:\\KPI\\ml\\k2_data_pipeline\\.venv\\Lib\\site-packages\\lightkurve\\search.py:420: LightkurveWarning: Warning: 11 files available to download. Only the first file has been downloaded. Please use `download_all()` or specify additional criteria (e.g. quarter, campaign, or sector) to limit your search.\n",
      "  warnings.warn(\n",
      "WARNING: TimeDeltaMissingUnitWarning: Numerical value without unit or explicit format passed to TimeDelta, assuming days [astropy.time.core]\n"
     ]
    },
    {
     "name": "stdout",
     "output_type": "stream",
     "text": [
      "4cc15990-9c62-11f0-b185-ac198eef3d13 downloaded\n",
      "4ccc08f2-9c62-11f0-a0aa-ac198eef3d13 metadata downloaded\n",
      "4ccc08f2-9c62-11f0-a0aa-ac198eef3d13 downloaded\n",
      "4cd5257c-9c62-11f0-ac94-ac198eef3d13 metadata downloaded\n",
      "4cd5257c-9c62-11f0-ac94-ac198eef3d13 downloaded\n",
      "4cdda8ad-9c62-11f0-8dc4-ac198eef3d13 metadata downloaded\n",
      "4cdda8ad-9c62-11f0-8dc4-ac198eef3d13 downloaded\n",
      "4ce4f207-9c62-11f0-bcf7-ac198eef3d13 metadata downloaded\n"
     ]
    },
    {
     "name": "stderr",
     "output_type": "stream",
     "text": [
      "D:\\KPI\\ml\\k2_data_pipeline\\.venv\\Lib\\site-packages\\lightkurve\\search.py:420: LightkurveWarning: Warning: 11 files available to download. Only the first file has been downloaded. Please use `download_all()` or specify additional criteria (e.g. quarter, campaign, or sector) to limit your search.\n",
      "  warnings.warn(\n",
      "WARNING: TimeDeltaMissingUnitWarning: Numerical value without unit or explicit format passed to TimeDelta, assuming days [astropy.time.core]\n",
      "D:\\KPI\\ml\\k2_data_pipeline\\.venv\\Lib\\site-packages\\lightkurve\\search.py:420: LightkurveWarning: Warning: 11 files available to download. Only the first file has been downloaded. Please use `download_all()` or specify additional criteria (e.g. quarter, campaign, or sector) to limit your search.\n",
      "  warnings.warn(\n",
      "WARNING: TimeDeltaMissingUnitWarning: Numerical value without unit or explicit format passed to TimeDelta, assuming days [astropy.time.core]\n"
     ]
    },
    {
     "name": "stdout",
     "output_type": "stream",
     "text": [
      "4ce4f207-9c62-11f0-bcf7-ac198eef3d13 downloaded\n",
      "4fb1071a-9c62-11f0-979f-ac198eef3d13 metadata downloaded\n",
      "4fb1071a-9c62-11f0-979f-ac198eef3d13 downloaded\n",
      "4fb84513-9c62-11f0-90f1-ac198eef3d13 metadata downloaded\n",
      "4fb84513-9c62-11f0-90f1-ac198eef3d13 failed\n",
      "501fb637-9c62-11f0-999b-ac198eef3d13 metadata downloaded\n"
     ]
    },
    {
     "name": "stderr",
     "output_type": "stream",
     "text": [
      "D:\\KPI\\ml\\k2_data_pipeline\\.venv\\Lib\\site-packages\\lightkurve\\search.py:420: LightkurveWarning: Warning: 14 files available to download. Only the first file has been downloaded. Please use `download_all()` or specify additional criteria (e.g. quarter, campaign, or sector) to limit your search.\n",
      "  warnings.warn(\n",
      "WARNING: TimeDeltaMissingUnitWarning: Numerical value without unit or explicit format passed to TimeDelta, assuming days [astropy.time.core]\n"
     ]
    },
    {
     "name": "stdout",
     "output_type": "stream",
     "text": [
      "501fb637-9c62-11f0-999b-ac198eef3d13 downloaded\n",
      "5769f082-9c62-11f0-bce1-ac198eef3d13 metadata downloaded\n"
     ]
    },
    {
     "name": "stderr",
     "output_type": "stream",
     "text": [
      "D:\\KPI\\ml\\k2_data_pipeline\\.venv\\Lib\\site-packages\\lightkurve\\search.py:420: LightkurveWarning: Warning: 4 files available to download. Only the first file has been downloaded. Please use `download_all()` or specify additional criteria (e.g. quarter, campaign, or sector) to limit your search.\n",
      "  warnings.warn(\n",
      "Warning: 33% (808/2449) of the cadences will be ignored due to the quality mask (quality_bitmask=1130799).\n",
      "WARNING: TimeDeltaMissingUnitWarning: Numerical value without unit or explicit format passed to TimeDelta, assuming days [astropy.time.core]\n"
     ]
    },
    {
     "name": "stdout",
     "output_type": "stream",
     "text": [
      "5769f082-9c62-11f0-bce1-ac198eef3d13 downloaded\n",
      "63d5bde1-9c62-11f0-a5db-ac198eef3d13 metadata downloaded\n"
     ]
    },
    {
     "name": "stderr",
     "output_type": "stream",
     "text": [
      "D:\\KPI\\ml\\k2_data_pipeline\\.venv\\Lib\\site-packages\\lightkurve\\search.py:420: LightkurveWarning: Warning: 11 files available to download. Only the first file has been downloaded. Please use `download_all()` or specify additional criteria (e.g. quarter, campaign, or sector) to limit your search.\n",
      "  warnings.warn(\n"
     ]
    },
    {
     "name": "stdout",
     "output_type": "stream",
     "text": [
      "63d5bde1-9c62-11f0-a5db-ac198eef3d13 downloaded\n",
      "64642b75-9c62-11f0-8090-ac198eef3d13 metadata downloaded\n"
     ]
    },
    {
     "name": "stderr",
     "output_type": "stream",
     "text": [
      "D:\\KPI\\ml\\k2_data_pipeline\\.venv\\Lib\\site-packages\\lightkurve\\search.py:420: LightkurveWarning: Warning: 12 files available to download. Only the first file has been downloaded. Please use `download_all()` or specify additional criteria (e.g. quarter, campaign, or sector) to limit your search.\n",
      "  warnings.warn(\n",
      "D:\\KPI\\ml\\k2_data_pipeline\\.venv\\Lib\\site-packages\\lightkurve\\search.py:420: LightkurveWarning: Warning: 12 files available to download. Only the first file has been downloaded. Please use `download_all()` or specify additional criteria (e.g. quarter, campaign, or sector) to limit your search.\n",
      "  warnings.warn(\n",
      "D:\\KPI\\ml\\k2_data_pipeline\\.venv\\Lib\\site-packages\\lightkurve\\search.py:420: LightkurveWarning: Warning: 12 files available to download. Only the first file has been downloaded. Please use `download_all()` or specify additional criteria (e.g. quarter, campaign, or sector) to limit your search.\n",
      "  warnings.warn(\n",
      "D:\\KPI\\ml\\k2_data_pipeline\\.venv\\Lib\\site-packages\\lightkurve\\search.py:420: LightkurveWarning: Warning: 12 files available to download. Only the first file has been downloaded. Please use `download_all()` or specify additional criteria (e.g. quarter, campaign, or sector) to limit your search.\n",
      "  warnings.warn(\n"
     ]
    },
    {
     "name": "stdout",
     "output_type": "stream",
     "text": [
      "64642b75-9c62-11f0-8090-ac198eef3d13 downloaded\n",
      "64e12e3e-9c62-11f0-88b3-ac198eef3d13 metadata downloaded\n",
      "64e12e3e-9c62-11f0-88b3-ac198eef3d13 downloaded\n",
      "64ec62a3-9c62-11f0-a1a1-ac198eef3d13 metadata downloaded\n",
      "64ec62a3-9c62-11f0-a1a1-ac198eef3d13 downloaded\n",
      "64f41e15-9c62-11f0-9aa1-ac198eef3d13 metadata downloaded\n",
      "64f41e15-9c62-11f0-9aa1-ac198eef3d13 downloaded\n",
      "65001cc8-9c62-11f0-a9fa-ac198eef3d13 metadata downloaded\n",
      "65001cc8-9c62-11f0-a9fa-ac198eef3d13 downloaded\n",
      "650a167a-9c62-11f0-b06c-ac198eef3d13 metadata downloaded\n",
      "650a167a-9c62-11f0-b06c-ac198eef3d13 downloaded\n",
      "65133a7f-9c62-11f0-9f6a-ac198eef3d13 metadata downloaded\n",
      "65133a7f-9c62-11f0-9f6a-ac198eef3d13 downloaded\n",
      "651b1f73-9c62-11f0-830f-ac198eef3d13 metadata downloaded\n"
     ]
    },
    {
     "name": "stderr",
     "output_type": "stream",
     "text": [
      "D:\\KPI\\ml\\k2_data_pipeline\\.venv\\Lib\\site-packages\\lightkurve\\search.py:420: LightkurveWarning: Warning: 12 files available to download. Only the first file has been downloaded. Please use `download_all()` or specify additional criteria (e.g. quarter, campaign, or sector) to limit your search.\n",
      "  warnings.warn(\n",
      "D:\\KPI\\ml\\k2_data_pipeline\\.venv\\Lib\\site-packages\\lightkurve\\search.py:420: LightkurveWarning: Warning: 12 files available to download. Only the first file has been downloaded. Please use `download_all()` or specify additional criteria (e.g. quarter, campaign, or sector) to limit your search.\n",
      "  warnings.warn(\n",
      "D:\\KPI\\ml\\k2_data_pipeline\\.venv\\Lib\\site-packages\\lightkurve\\search.py:420: LightkurveWarning: Warning: 12 files available to download. Only the first file has been downloaded. Please use `download_all()` or specify additional criteria (e.g. quarter, campaign, or sector) to limit your search.\n",
      "  warnings.warn(\n",
      "D:\\KPI\\ml\\k2_data_pipeline\\.venv\\Lib\\site-packages\\lightkurve\\search.py:420: LightkurveWarning: Warning: 20 files available to download. Only the first file has been downloaded. Please use `download_all()` or specify additional criteria (e.g. quarter, campaign, or sector) to limit your search.\n",
      "  warnings.warn(\n"
     ]
    },
    {
     "name": "stdout",
     "output_type": "stream",
     "text": [
      "651b1f73-9c62-11f0-830f-ac198eef3d13 downloaded\n",
      "6583d133-9c62-11f0-8f22-ac198eef3d13 metadata downloaded\n"
     ]
    },
    {
     "name": "stderr",
     "output_type": "stream",
     "text": [
      "D:\\KPI\\ml\\k2_data_pipeline\\.venv\\Lib\\site-packages\\lightkurve\\search.py:420: LightkurveWarning: Warning: 20 files available to download. Only the first file has been downloaded. Please use `download_all()` or specify additional criteria (e.g. quarter, campaign, or sector) to limit your search.\n",
      "  warnings.warn(\n"
     ]
    },
    {
     "name": "stdout",
     "output_type": "stream",
     "text": [
      "6583d133-9c62-11f0-8f22-ac198eef3d13 downloaded\n",
      "65a2823c-9c62-11f0-b991-ac198eef3d13 metadata downloaded\n",
      "65a2823c-9c62-11f0-b991-ac198eef3d13 downloaded\n",
      "65bf6707-9c62-11f0-9df7-ac198eef3d13 metadata downloaded\n"
     ]
    },
    {
     "name": "stderr",
     "output_type": "stream",
     "text": [
      "D:\\KPI\\ml\\k2_data_pipeline\\.venv\\Lib\\site-packages\\lightkurve\\search.py:420: LightkurveWarning: Warning: 20 files available to download. Only the first file has been downloaded. Please use `download_all()` or specify additional criteria (e.g. quarter, campaign, or sector) to limit your search.\n",
      "  warnings.warn(\n",
      "D:\\KPI\\ml\\k2_data_pipeline\\.venv\\Lib\\site-packages\\lightkurve\\search.py:420: LightkurveWarning: Warning: 20 files available to download. Only the first file has been downloaded. Please use `download_all()` or specify additional criteria (e.g. quarter, campaign, or sector) to limit your search.\n",
      "  warnings.warn(\n"
     ]
    },
    {
     "name": "stdout",
     "output_type": "stream",
     "text": [
      "65bf6707-9c62-11f0-9df7-ac198eef3d13 downloaded\n",
      "65dd0ccf-9c62-11f0-801a-ac198eef3d13 metadata downloaded\n",
      "65dd0ccf-9c62-11f0-801a-ac198eef3d13 downloaded\n",
      "65f85b10-9c62-11f0-9f63-ac198eef3d13 metadata downloaded\n"
     ]
    },
    {
     "name": "stderr",
     "output_type": "stream",
     "text": [
      "D:\\KPI\\ml\\k2_data_pipeline\\.venv\\Lib\\site-packages\\lightkurve\\search.py:420: LightkurveWarning: Warning: 20 files available to download. Only the first file has been downloaded. Please use `download_all()` or specify additional criteria (e.g. quarter, campaign, or sector) to limit your search.\n",
      "  warnings.warn(\n",
      "D:\\KPI\\ml\\k2_data_pipeline\\.venv\\Lib\\site-packages\\lightkurve\\search.py:420: LightkurveWarning: Warning: 20 files available to download. Only the first file has been downloaded. Please use `download_all()` or specify additional criteria (e.g. quarter, campaign, or sector) to limit your search.\n",
      "  warnings.warn(\n"
     ]
    },
    {
     "name": "stdout",
     "output_type": "stream",
     "text": [
      "65f85b10-9c62-11f0-9f63-ac198eef3d13 downloaded\n",
      "661734cd-9c62-11f0-b83b-ac198eef3d13 metadata downloaded\n"
     ]
    },
    {
     "name": "stderr",
     "output_type": "stream",
     "text": [
      "D:\\KPI\\ml\\k2_data_pipeline\\.venv\\Lib\\site-packages\\lightkurve\\search.py:420: LightkurveWarning: Warning: 20 files available to download. Only the first file has been downloaded. Please use `download_all()` or specify additional criteria (e.g. quarter, campaign, or sector) to limit your search.\n",
      "  warnings.warn(\n"
     ]
    },
    {
     "name": "stdout",
     "output_type": "stream",
     "text": [
      "661734cd-9c62-11f0-b83b-ac198eef3d13 downloaded\n",
      "6638266e-9c62-11f0-af82-ac198eef3d13 metadata downloaded\n",
      "6638266e-9c62-11f0-af82-ac198eef3d13 downloaded\n",
      "665445c2-9c62-11f0-b924-ac198eef3d13 metadata downloaded\n"
     ]
    },
    {
     "name": "stderr",
     "output_type": "stream",
     "text": [
      "D:\\KPI\\ml\\k2_data_pipeline\\.venv\\Lib\\site-packages\\lightkurve\\search.py:420: LightkurveWarning: Warning: 20 files available to download. Only the first file has been downloaded. Please use `download_all()` or specify additional criteria (e.g. quarter, campaign, or sector) to limit your search.\n",
      "  warnings.warn(\n",
      "D:\\KPI\\ml\\k2_data_pipeline\\.venv\\Lib\\site-packages\\lightkurve\\search.py:420: LightkurveWarning: Warning: 20 files available to download. Only the first file has been downloaded. Please use `download_all()` or specify additional criteria (e.g. quarter, campaign, or sector) to limit your search.\n",
      "  warnings.warn(\n"
     ]
    },
    {
     "name": "stdout",
     "output_type": "stream",
     "text": [
      "665445c2-9c62-11f0-b924-ac198eef3d13 downloaded\n",
      "6671900c-9c62-11f0-bb4c-ac198eef3d13 metadata downloaded\n"
     ]
    },
    {
     "name": "stderr",
     "output_type": "stream",
     "text": [
      "D:\\KPI\\ml\\k2_data_pipeline\\.venv\\Lib\\site-packages\\lightkurve\\search.py:420: LightkurveWarning: Warning: 20 files available to download. Only the first file has been downloaded. Please use `download_all()` or specify additional criteria (e.g. quarter, campaign, or sector) to limit your search.\n",
      "  warnings.warn(\n"
     ]
    },
    {
     "name": "stdout",
     "output_type": "stream",
     "text": [
      "6671900c-9c62-11f0-bb4c-ac198eef3d13 downloaded\n",
      "668fbacd-9c62-11f0-b52a-ac198eef3d13 metadata downloaded\n",
      "668fbacd-9c62-11f0-b52a-ac198eef3d13 downloaded\n",
      "66ac579e-9c62-11f0-8d2a-ac198eef3d13 metadata downloaded\n"
     ]
    },
    {
     "name": "stderr",
     "output_type": "stream",
     "text": [
      "D:\\KPI\\ml\\k2_data_pipeline\\.venv\\Lib\\site-packages\\lightkurve\\search.py:420: LightkurveWarning: Warning: 20 files available to download. Only the first file has been downloaded. Please use `download_all()` or specify additional criteria (e.g. quarter, campaign, or sector) to limit your search.\n",
      "  warnings.warn(\n",
      "D:\\KPI\\ml\\k2_data_pipeline\\.venv\\Lib\\site-packages\\lightkurve\\search.py:420: LightkurveWarning: Warning: 20 files available to download. Only the first file has been downloaded. Please use `download_all()` or specify additional criteria (e.g. quarter, campaign, or sector) to limit your search.\n",
      "  warnings.warn(\n"
     ]
    },
    {
     "name": "stdout",
     "output_type": "stream",
     "text": [
      "66ac579e-9c62-11f0-8d2a-ac198eef3d13 downloaded\n",
      "66cf2465-9c62-11f0-86e4-ac198eef3d13 metadata downloaded\n",
      "66cf2465-9c62-11f0-86e4-ac198eef3d13 downloaded\n",
      "66ea1207-9c62-11f0-9669-ac198eef3d13 metadata downloaded\n"
     ]
    },
    {
     "name": "stderr",
     "output_type": "stream",
     "text": [
      "D:\\KPI\\ml\\k2_data_pipeline\\.venv\\Lib\\site-packages\\lightkurve\\search.py:420: LightkurveWarning: Warning: 20 files available to download. Only the first file has been downloaded. Please use `download_all()` or specify additional criteria (e.g. quarter, campaign, or sector) to limit your search.\n",
      "  warnings.warn(\n"
     ]
    }
   ],
   "execution_count": null
  },
  {
   "metadata": {
    "ExecuteTime": {
     "end_time": "2025-09-27T14:31:45.399274Z",
     "start_time": "2025-09-27T14:31:45.392137Z"
    }
   },
   "cell_type": "code",
   "source": [
    "def process_k2id_list_download(k2id_df, k2id_sublist, num_threads=4):\n",
    "    try:\n",
    "        print(\"here\", flush=True)\n",
    "        for k2id in k2id_sublist:\n",
    "            rows = k2id_df[k2id_df['tic_id'] == k2id]\n",
    "            print(\"executor\", flush=True)\n",
    "            with ThreadPoolExecutor(max_workers = num_threads) as executor:\n",
    "                for i, row in rows.iterrows():\n",
    "                    print(i)\n",
    "                    executor.submit(download_curve,row[\"tic_id\"], row[\"hostname\"], row[\"disposition\"])\n",
    "    except Exception as e:\n",
    "        import traceback; traceback.print_exc()\n",
    "        raise"
   ],
   "id": "ad9923f3f5f72d51",
   "outputs": [],
   "execution_count": 8
  },
  {
   "metadata": {
    "ExecuteTime": {
     "end_time": "2025-09-27T14:31:47.515098Z",
     "start_time": "2025-09-27T14:31:47.505746Z"
    }
   },
   "cell_type": "code",
   "source": [
    "def run(process_num, num_threads, k2ids_list, k2_df):\n",
    "    k2ids_list = list(k2ids_list)\n",
    "    chunks = [k2ids_list[i::process_num] for i in range(process_num)]\n",
    "    for chunk in chunks:\n",
    "        print(\"chunk len\", len(chunk))\n",
    "    func_args = [(k2_df, chunk, num_threads) for chunk in chunks]\n",
    "    print(\"starting\")\n",
    "    with Pool(processes=process_num) as pool:\n",
    "        print(\"pool len\")\n",
    "        pool.starmap(process_k2id_list_download, func_args)"
   ],
   "id": "e6642ca9fce0a895",
   "outputs": [],
   "execution_count": 9
  },
  {
   "metadata": {
    "collapsed": true,
    "jupyter": {
     "is_executing": true
    },
    "ExecuteTime": {
     "start_time": "2025-09-27T14:31:49.828948Z"
    }
   },
   "cell_type": "code",
   "source": [
    "if __name__ == \"__main__\":\n",
    "    PROCESS_NUM = 1\n",
    "    THREADS_NUM = 1 #for each process\n",
    "    run(PROCESS_NUM, THREADS_NUM, k2ids_list, k2_df)"
   ],
   "id": "initial_id",
   "outputs": [
    {
     "name": "stdout",
     "output_type": "stream",
     "text": [
      "chunk len 1806\n",
      "starting\n",
      "pool len\n"
     ]
    }
   ],
   "execution_count": null
  },
  {
   "metadata": {},
   "cell_type": "code",
   "outputs": [],
   "execution_count": null,
   "source": "",
   "id": "7fd8f7958db7894f"
  }
 ],
 "metadata": {
  "kernelspec": {
   "display_name": "Python 3",
   "language": "python",
   "name": "python3"
  },
  "language_info": {
   "codemirror_mode": {
    "name": "ipython",
    "version": 2
   },
   "file_extension": ".py",
   "mimetype": "text/x-python",
   "name": "python",
   "nbconvert_exporter": "python",
   "pygments_lexer": "ipython2",
   "version": "2.7.6"
  }
 },
 "nbformat": 4,
 "nbformat_minor": 5
}
